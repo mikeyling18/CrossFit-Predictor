{
 "cells": [
  {
   "cell_type": "code",
   "execution_count": 1,
   "metadata": {
    "collapsed": true
   },
   "outputs": [],
   "source": [
    "import pandas as pd"
   ]
  },
  {
   "cell_type": "code",
   "execution_count": 8,
   "metadata": {},
   "outputs": [
    {
     "data": {
      "text/plain": [
       "Date                                                          7/18/18\nWorkout                                  Back Squat 5x20, rest 2 mins\nResult                                                         5669.9\nWork performed                                                  35529\nWork time                                                         NaN\nFormatted Result    12500 lbs | 125 lbs, 125 lbs, 125 lbs, 125 lbs...\nNotes                                                             NaN\nDescription         Sets : rest 2 mins\\n20 Back Squats | 125 lbs\\n...\nName: 0, dtype: object"
      ]
     },
     "execution_count": 8,
     "metadata": {},
     "output_type": "execute_result"
    }
   ],
   "source": [
    "df = pd.read_csv(\"Data/data (1).csv\", encoding ='latin1')\n",
    "df.iloc[0]\n"
   ]
  }
 ],
 "metadata": {
  "kernelspec": {
   "display_name": "Python 2",
   "language": "python",
   "name": "python2"
  },
  "language_info": {
   "codemirror_mode": {
    "name": "ipython",
    "version": 2
   },
   "file_extension": ".py",
   "mimetype": "text/x-python",
   "name": "python",
   "nbconvert_exporter": "python",
   "pygments_lexer": "ipython2",
   "version": "2.7.6"
  }
 },
 "nbformat": 4,
 "nbformat_minor": 0
}
